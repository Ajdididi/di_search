{
 "cells": [
  {
   "cell_type": "code",
   "execution_count": 9,
   "metadata": {},
   "outputs": [],
   "source": [
    "import sqlite3\n",
    "db = sqlite3.connect('druginfo.db')\n",
    "cur = db.cursor()"
   ]
  },
  {
   "cell_type": "code",
   "execution_count": 10,
   "metadata": {},
   "outputs": [
    {
     "name": "stderr",
     "output_type": "stream",
     "text": [
      "C:\\Users\\AKIE01-2022\\anaconda3\\lib\\site-packages\\openpyxl\\worksheet\\_read_only.py:79: UserWarning: Unknown extension is not supported and will be removed\n",
      "  for idx, row in parser.parse():\n"
     ]
    }
   ],
   "source": [
    "import pandas as pd\n",
    "df = pd.read_excel('採用薬情報一覧.xlsx', sheet_name='採用薬一覧', \n",
    "                   header=2, \n",
    "                   #index_col=3\n",
    "                   )\n",
    "#df.head()"
   ]
  },
  {
   "cell_type": "code",
   "execution_count": 11,
   "metadata": {},
   "outputs": [
    {
     "data": {
      "text/plain": [
       "Index(['採用', '採用年月', 'カナ', '販売名', '一般名', '販売会社等', '区分', '薬価', '薬効分類名', '貯法',\n",
       "       '限定', '要時購入', '科限定1', '科限定2', '科限定3', '単位', '1日最大量', '1回最大量', '1日小児量',\n",
       "       '1回小児量', '設定理由', '備考', '上限設定の種別', '設定理由.1', '1回量上限設定値', '第一単位での設定値',\n",
       "       '第一単位', '注意分類', '注意番号', '電子カルテマスタ登録（1・3）', '部門マスタ登録（1・2・3）',\n",
       "       '電子カルテ設定（日）', '部門設定（日）', '休薬期間チェック表', '設定理由.2', '電子カルテ設定（日）.1',\n",
       "       '部門設定（日）.1', '設定理由.3', '薬効分類名.1', '適用上の注意（添付文書）', '対応', '1包化', '粉砕',\n",
       "       '簡易懸濁', '注意事項', '比重', '粉の重量', '曝光', '遮光', '曝光.1', '遮光.1', '薬効',\n",
       "       '注意・副作用', '薬効（診療科限定）'],\n",
       "      dtype='object')"
      ]
     },
     "execution_count": 11,
     "metadata": {},
     "output_type": "execute_result"
    }
   ],
   "source": [
    "df.columns"
   ]
  },
  {
   "cell_type": "code",
   "execution_count": 12,
   "metadata": {},
   "outputs": [],
   "source": [
    "df.rename(columns={\n",
    "    '販売名':'drug', '一般名':'general',\n",
    "    #'採用':'adopt', '採用年月':'yyyymm', 'カナ':'kana', '販売会社等':'maker', '区分':'categ', '薬価':'price', '薬効分類名':'effic_categ', \n",
    "    #'貯法':'deposit', '限定':'limit', '要時購入':'as_required', '科限定1':'dep1', '科限定2':'dep2', '科限定3':'dep3', '単位':'unit', '1日最大量':'daily_max', \n",
    "    #'1回最大量':'single_max', '1日小児量':'daily_child_max', '1回小児量':'single_child_max', '設定理由':'reason', '備考':'memo', '上限設定の種別':'categ_max', '設定理由.1':'reason_inj', \n",
    "    #'1回量上限設定値':'single_max_inj', '第一単位での設定値':'1st_unit_max', '第一単位':'1st_unit', '注意分類':'categ_caution', '注意番号':'caution_No', '電子カルテマスタ登録（1・3）':'chart_master', \n",
    "    #'部門マスタ登録（1・2・3）':'sys_master', '電子カルテ設定（日）':'chart_daily', '部門設定（日）':'sys_daily', '休薬期間チェック表':'withdrawal_check', '設定理由.2':'reason_chemo', \n",
    "    #'電子カルテ設定（日）.1':'chart_daily_NonChemo', '部門設定（日）.1':'sys_daily_NonChemo', '設定理由.3':'reason_NinChemo', '薬効分類名.1':'effi_categ', '適用上の注意（添付文書）':'pkg_insert', \n",
    "    #'対応':'handle', '1包化':'1-pack', '粉砕':'crush', '簡易懸濁':'susp', '注意事項':'notes', '比重':'dens', '粉の重量':'weight', '曝光':'light_expo', '遮光':'shading', \n",
    "    #'曝光.1':'light_expo_NonChemo', '遮光.1':'shading_NonChemo', '薬効':'efficacy', '注意・副作用':'side_effect', '薬効（診療科限定）':'efficacy_dep', \n",
    "    }, inplace=True\n",
    "    )\n",
    "#df.head(5)"
   ]
  },
  {
   "cell_type": "code",
   "execution_count": 13,
   "metadata": {},
   "outputs": [],
   "source": [
    "df.set_index('drug', inplace=True)"
   ]
  },
  {
   "cell_type": "code",
   "execution_count": 16,
   "metadata": {},
   "outputs": [
    {
     "data": {
      "text/plain": [
       "2230"
      ]
     },
     "execution_count": 16,
     "metadata": {},
     "output_type": "execute_result"
    }
   ],
   "source": [
    "df.to_sql('info', db, if_exists='replace')"
   ]
  },
  {
   "cell_type": "code",
   "execution_count": 15,
   "metadata": {},
   "outputs": [
    {
     "name": "stdin",
     "output_type": "stream",
     "text": [
      " アムロ\n"
     ]
    }
   ],
   "source": [
    "key = input()"
   ]
  },
  {
   "cell_type": "code",
   "execution_count": 17,
   "metadata": {},
   "outputs": [],
   "source": [
    "kensaku = '%'+key+'%'"
   ]
  },
  {
   "cell_type": "code",
   "execution_count": 18,
   "metadata": {},
   "outputs": [
    {
     "data": {
      "text/plain": [
       "'%アムロ%'"
      ]
     },
     "execution_count": 18,
     "metadata": {},
     "output_type": "execute_result"
    }
   ],
   "source": [
    "kensaku"
   ]
  },
  {
   "cell_type": "code",
   "execution_count": 19,
   "metadata": {},
   "outputs": [
    {
     "data": {
      "text/plain": [
       "'アイミクス配合錠HD'"
      ]
     },
     "execution_count": 19,
     "metadata": {},
     "output_type": "execute_result"
    }
   ],
   "source": [
    "cur.execute(\"SELECT * FROM info WHERE drug like ? OR general LIKE ?\", \n",
    "            [kensaku, kensaku]\n",
    "           )\n",
    "kekka = cur.fetchall()\n",
    "kekka[0][0]"
   ]
  },
  {
   "cell_type": "code",
   "execution_count": 21,
   "metadata": {},
   "outputs": [
    {
     "name": "stdout",
     "output_type": "stream",
     "text": [
      "アイミクス配合錠HD     採用あり\n",
      "【基本情報】\n",
      "   一般名：イルベサルタン＼アムロジピンベシル酸塩  販売会社等：大日本住友  薬効分類名：降圧\n",
      "   薬価：108.6 円\n",
      "【調剤設定】\n",
      "   一包化：可  粉砕：不可  簡易懸濁：(可)\n",
      "注意事項参照\n",
      "   注意事項：粉砕後、25℃、1000lxで5日後に性状に変化あり。遮光すれば3ヶ月後でも問題はなし\n",
      " 簡易懸濁は10分後に溶解するという企業データあり。\n",
      "【最大量設定】\n",
      "   1日最大量：1 錠  1回最大量：1.0 錠\n",
      "   1日小児量：0.0 錠  1回小児量：0 錠\n",
      "   設定理由：常用量\n",
      "   備考：None\n",
      "【自動車運転等の注意喚起】\n",
      "   注意分類：注意   注意番号：2.0\n",
      "   電カルマスタ登録(1・3)：―\n",
      "   部門マスタ登録(1・2・3)：○\n",
      "【投与日数制限】\n",
      "   該当しない\n",
      "【冷所医薬品の室温での安定性】\n",
      "   該当しない\n",
      "【薬情】\n",
      "   薬効：血圧を下げる薬です。\n",
      "   注意・副作用：まれにめまい、顔のほてり、頭痛、顔面・口唇等の腫れ等が現れることがあります。めまい、ふらつきが現れることがありますので、車の運転や危険な作業中にそのような症状が現れた場合はすぐに作業を中断してください。顔面・口唇等の腫れが続くようでしたら、主治医まで申し出て下さい。妊娠中の方は服用が好ましくありませんので担当医師又は薬剤師に相談してください。\n",
      "   薬効（診療科限定）：血圧を下げる薬です。\n",
      "----------------------\n",
      "アマルエット配合錠4番「ニプロ」     採用あり\n",
      "【基本情報】\n",
      "   一般名：アムロジピンベシル酸塩＼アトルバスタチンカルシウム水和物  販売会社等：ニプロ  薬効分類名：降圧、脂質異常\n",
      "   薬価：34.3 円\n",
      "【調剤設定】\n",
      "   一包化：可  粉砕：可  簡易懸濁：可\n",
      "   注意事項：None\n",
      "【最大量設定】\n",
      "   1日最大量：2 錠  1回最大量：2.0 錠\n",
      "   1日小児量：0.0 錠  1回小児量：0 錠\n",
      "   設定理由：常用量上限値\n",
      "   備考：None\n",
      "【自動車運転等の注意喚起】\n",
      "   注意分類：注意   注意番号：2.0\n",
      "   電カルマスタ登録(1・3)：―\n",
      "   部門マスタ登録(1・2・3)：○\n",
      "【投与日数制限】\n",
      "   該当しない\n",
      "【冷所医薬品の室温での安定性】\n",
      "   該当しない\n",
      "【薬情】\n",
      "   薬効：血管を拡げて血圧を下げたり、狭心症発作を予防したりする薬と、血中のコレステロールや中性脂肪の量を下げる薬が配合された薬です。\n",
      "   注意・副作用：まれに、頭痛、発疹、ふらつき等が現れることがあります。嘔吐や倦怠感等の症状が現れた場合、又は筋肉痛、脱力感等の症状が持続したり褐色の尿が認められたりする場合は副作用の可能性がありますので、服用を一時中止して速やかに受診して下さい。妊娠中および授乳婦の方は服用が好ましくありませんので、担当医師又は薬剤師に相談して下さい。めまいが現れることがありますので、車の運転や危険な作業中にそのような症状が現れた場合はすぐに中断して下さい。定期的に肝機能検査を受けて下さい。\n",
      "   薬効（診療科限定）：血管を拡げて血圧を下げたり、狭心症発作を予防したりする薬と、血中のコレステロールや中性脂肪の量を下げる薬が配合された薬です。\n",
      "----------------------\n",
      "アムロジピンOD錠2.5mg「サワイ」     採用あり\n",
      "【基本情報】\n",
      "   一般名：アムロジピンベシル酸塩  販売会社等：沢井  薬効分類名：降圧、狭心症\n",
      "   薬価：10.1 円\n",
      "【調剤設定】\n",
      "   一包化：可  粉砕：不可  簡易懸濁：可\n",
      "   注意事項：口腔内崩壊錠であり、粉砕する必要なし。\n",
      "【最大量設定】\n",
      "   1日最大量：2 錠  1回最大量：1.0 錠\n",
      "   1日小児量：2.0 錠  1回小児量：1 錠\n",
      "   設定理由：例外\n",
      "   備考：高規格製品あり\n",
      "【自動車運転等の注意喚起】\n",
      "   注意分類：注意   注意番号：2.0\n",
      "   電カルマスタ登録(1・3)：―\n",
      "   部門マスタ登録(1・2・3)：○\n",
      "【投与日数制限】\n",
      "   該当しない\n",
      "【冷所医薬品の室温での安定性】\n",
      "   該当しない\n",
      "【薬情】\n",
      "   薬効：血管を拡げて血圧を下げたり、狭心症発作を予防したりする薬です。\n",
      "   注意・副作用：まれに顔のほてり、頭痛、発疹、ふらつき、便秘等が現れることがあります。めまいが現れることがありますので、車の運転や危険な作業中にそのような症状が現れた場合はすぐに運転や作業を中断してください。\n",
      "   薬効（診療科限定）：血管を拡げて血圧を下げたり、狭心症発作を予防したりする薬です。\n",
      "----------------------\n",
      "アムロジピンOD錠5mg「サワイ」     採用あり\n",
      "【基本情報】\n",
      "   一般名：アムロジピンベシル酸塩  販売会社等：沢井  薬効分類名：降圧、狭心症\n",
      "   薬価：12.8 円\n",
      "【調剤設定】\n",
      "   一包化：可  粉砕：不可  簡易懸濁：可\n",
      "   注意事項：口腔内崩壊錠であり、粉砕する必要なし。\n",
      "【最大量設定】\n",
      "   1日最大量：2 錠  1回最大量：2.0 錠\n",
      "   1日小児量：1.0 錠  1回小児量：1 錠\n",
      "   設定理由：限度量値\n",
      "   備考：小児：常用量上限値の2倍値\n",
      "【自動車運転等の注意喚起】\n",
      "   注意分類：注意   注意番号：2.0\n",
      "   電カルマスタ登録(1・3)：―\n",
      "   部門マスタ登録(1・2・3)：○\n",
      "【投与日数制限】\n",
      "   該当しない\n",
      "【冷所医薬品の室温での安定性】\n",
      "   該当しない\n",
      "【薬情】\n",
      "   薬効：血管を拡げて血圧を下げたり、狭心症発作を予防したりする薬です。\n",
      "   注意・副作用：まれに顔のほてり、頭痛、発疹、ふらつき、便秘等が現れることがあります。めまいが現れることがありますので、車の運転や危険な作業中にそのような症状が現れた場合はすぐに運転や作業を中断してください。\n",
      "   薬効（診療科限定）：血管を拡げて血圧を下げたり、狭心症発作を予防したりする薬です。\n",
      "----------------------\n",
      "ザクラス配合錠HD     採用あり\n",
      "【基本情報】\n",
      "   一般名：アジルサルタン＼アムロジピンベシル酸塩  販売会社等：武田  薬効分類名：降圧\n",
      "   薬価：110.9 円\n",
      "【調剤設定】\n",
      "   一包化：可  粉砕：可  簡易懸濁：(可)\n",
      "注意事項参照\n",
      "   注意事項：簡易懸濁は10分後に溶解するとの企業データあり。\n",
      "【最大量設定】\n",
      "   1日最大量：1 錠  1回最大量：1.0 錠\n",
      "   1日小児量：0.0 錠  1回小児量：0 錠\n",
      "   設定理由：常用量\n",
      "   備考：None\n",
      "【自動車運転等の注意喚起】\n",
      "   注意分類：注意   注意番号：2.0\n",
      "   電カルマスタ登録(1・3)：―\n",
      "   部門マスタ登録(1・2・3)：○\n",
      "【投与日数制限】\n",
      "   該当しない\n",
      "【冷所医薬品の室温での安定性】\n",
      "   該当しない\n",
      "【薬情】\n",
      "   薬効：血圧を下げる薬です。\n",
      "\n",
      "   注意・副作用：まれにめまい、顔のほてり、頭痛、便秘、顔面・口唇等の腫れ等が現れることがあります。顔面・口唇等の腫れが続くようでしたら、主治医まで申し出てください。めまい、ふらつきが現れることがありますので、車の運転や危険な作業中にそのような症状が現れた場合はすぐに作業を中断してください。妊娠中の方は服用が好ましくありませんので担当医師又は薬剤師に相談してください。\n",
      "   薬効（診療科限定）：血圧を下げる薬です。\n",
      "\n",
      "----------------------\n",
      "テラムロ配合錠AP「DSEP」     採用あり\n",
      "【基本情報】\n",
      "   一般名：テルミサルタン＼アムロジピンベシル酸塩  販売会社等：第一三共エスファ  薬効分類名：降圧\n",
      "   薬価：34.2 円\n",
      "【調剤設定】\n",
      "   一包化：不可  粉砕：不可  簡易懸濁：不可\n",
      "   注意事項：25℃、75%RH1ヶ月でアムロジピン溶出率の低下、硬度の低下が認められている。規格内ではあるが1ヶ月までのデータしかないため1包化不可とした。\n",
      " 湿度によるアムロジピンの含量低下が認められるため(7日後に90.1%まで減少する)(先発品データより)\n",
      "【最大量設定】\n",
      "   1日最大量：1 錠  1回最大量：1.0 錠\n",
      "   1日小児量：0.0 錠  1回小児量：0 錠\n",
      "   設定理由：常用量\n",
      "   備考：None\n",
      "【自動車運転等の注意喚起】\n",
      "   注意分類：注意   注意番号：2.0\n",
      "   電カルマスタ登録(1・3)：―\n",
      "   部門マスタ登録(1・2・3)：○\n",
      "【投与日数制限】\n",
      "   該当しない\n",
      "【冷所医薬品の室温での安定性】\n",
      "   該当しない\n",
      "【薬情】\n",
      "   薬効：血圧を下げる薬です。\n",
      "   注意・副作用：まれにめまい、顔のほてり、頭痛、便秘、顔面・口唇の腫れ等が現れることがあります。めまい、ふらつきが現れることがありますので、車の運転や危険な作業中にそのような症状が現れた場合はすぐに作業を中断してください。妊娠中の方は服用が好ましくありませんので担当医師又は薬剤師に相談してください。顔面・口唇等の腫れが続くようでしたら主治医まで申し出てください。\n",
      "   薬効（診療科限定）：血圧を下げる薬です。\n",
      "----------------------\n"
     ]
    }
   ],
   "source": [
    "for i in range(0, len(kekka)):\n",
    "    if kekka[i][1] == 1:\n",
    "        saiyo = '採用あり'\n",
    "    elif kekka[i][1] == 2:\n",
    "        saiyo = '院内製剤'\n",
    "    else:\n",
    "        saiyo = '採用なし'\n",
    "    \n",
    "    if not kekka[i][11] is None:\n",
    "        youji = '要時'\n",
    "    else:\n",
    "        youji = ''\n",
    "    \n",
    "    if not kekka[i][12] is None:\n",
    "        if not kekka[i][13] is None:\n",
    "            if not kekka[i][14] is None:\n",
    "                limit = f'科限定：{kekka[i][12]}・{kekka[i][13]}・{kekka[i][14]}'\n",
    "            else:\n",
    "                limit = f'科限定：{kekka[i][12]}・{kekka[i][13]}'\n",
    "        else:\n",
    "            limit = f'科限定：{kekka[i][12]}'\n",
    "    else:\n",
    "        limit = ''\n",
    "    \n",
    "    if not kekka[i][9] is None:\n",
    "        store = '冷'\n",
    "    else:\n",
    "        store = ''\n",
    "    \n",
    "    if not kekka[i][6] is None:\n",
    "        class_ = kekka[i][6]\n",
    "    else:\n",
    "        class_ = ''\n",
    "\n",
    "    print(f'{kekka[i][0]}  {store} {youji} {limit} {saiyo}' )\n",
    "    print('【基本情報】')\n",
    "    print(f'   一般名：{kekka[i][4]}  販売会社等：{kekka[i][5]}  薬効分類名：{kekka[i][8]}')\n",
    "    print(f'   薬価：{kekka[i][7]} 円')\n",
    "    print('【調剤設定】')\n",
    "    if not kekka[i][42] is None:  #粉砕設定が空欄かどうかで分岐\n",
    "        print(f'   一包化：{kekka[i][41]}  粉砕：{kekka[i][42]}  簡易懸濁：{kekka[i][43]}')\n",
    "        print(f'   注意事項：{kekka[i][44]}')\n",
    "    else:\n",
    "        print('   該当しない')\n",
    "    print('【最大量設定】')\n",
    "    if not kekka[i][16] is None:\n",
    "        print(f'   1日最大量：{kekka[i][16]} {kekka[i][15]}  1回最大量：{kekka[i][17]} {kekka[i][15]}')\n",
    "        print(f'   1日小児量：{kekka[i][18]} {kekka[i][15]}  1回小児量：{kekka[i][19]} {kekka[i][15]}')\n",
    "        print(f'   設定理由：{kekka[i][20]}')\n",
    "        print(f'   備考：{kekka[i][21]}')\n",
    "    else:\n",
    "        print('   該当しない')\n",
    "    print('【自動車運転等の注意喚起】')\n",
    "    if not kekka[i][27] is None:\n",
    "        print(f'   注意分類：{kekka[i][27]}   注意番号：{kekka[i][28]}')\n",
    "        print(f'   電カルマスタ登録(1・3)：{kekka[i][29]}')\n",
    "        print(f'   部門マスタ登録(1・2・3)：{kekka[i][30]}')\n",
    "    else:\n",
    "        print('   該当しない')    \n",
    "    print('【投与日数制限】')\n",
    "    if not kekka[i][31] is None:\n",
    "        print(f'   電カル設定（日）：{kekka[i][31]}')\n",
    "        print(f'   部門設定（日）：{kekka[i][32]}')\n",
    "        print(f'   休薬チェック表：{kekka[i][33]}')\n",
    "        print(f'   設定理由：{kekka[i][34]}')\n",
    "    elif not kekka[i][35] is None:\n",
    "        print(f'   電カル設定（日）：{kekka[i][35]}')\n",
    "        print(f'   部門設定（日）：{kekka[i][36]}')\n",
    "        print(f'   設定理由：{kekka[i][37]}')\n",
    "    else:\n",
    "        print('   該当しない')\n",
    "    print('【冷所医薬品の室温での安定性】')\n",
    "    if not kekka[i][47] is None:\n",
    "        print(f'   曝光：{kekka[i][47]}')\n",
    "        print(f'   遮光：{kekka[i][48]}')\n",
    "    elif not kekka[i][49] is None:\n",
    "        print(f'   曝光：{kekka[i][49]}')\n",
    "        print(f'   遮光：{kekka[i][50]}')\n",
    "    else:\n",
    "        print('   該当しない')\n",
    "    print('【薬情】')\n",
    "    if not kekka[i][51] is None:\n",
    "        print(f'   薬効：{kekka[i][51]}')\n",
    "        print(f'   注意・副作用：{kekka[i][52]}')\n",
    "        if not kekka[i][51] is None:\n",
    "            print(f'   薬効（診療科限定）：{kekka[i][51]}')\n",
    "    else:\n",
    "        print('   設定なし')\n",
    "    print('----------------------')"
   ]
  },
  {
   "cell_type": "code",
   "execution_count": null,
   "metadata": {},
   "outputs": [],
   "source": []
  },
  {
   "cell_type": "code",
   "execution_count": null,
   "metadata": {},
   "outputs": [],
   "source": []
  },
  {
   "cell_type": "code",
   "execution_count": null,
   "metadata": {},
   "outputs": [],
   "source": []
  },
  {
   "cell_type": "code",
   "execution_count": 22,
   "metadata": {},
   "outputs": [],
   "source": [
    "cur.close()\n",
    "db.close()"
   ]
  },
  {
   "cell_type": "code",
   "execution_count": null,
   "metadata": {},
   "outputs": [],
   "source": []
  }
 ],
 "metadata": {
  "kernelspec": {
   "display_name": "Python 3 (ipykernel)",
   "language": "python",
   "name": "python3"
  },
  "language_info": {
   "codemirror_mode": {
    "name": "ipython",
    "version": 3
   },
   "file_extension": ".py",
   "mimetype": "text/x-python",
   "name": "python",
   "nbconvert_exporter": "python",
   "pygments_lexer": "ipython3",
   "version": "3.9.13"
  },
  "vscode": {
   "interpreter": {
    "hash": "3fcabc82b2ba21954912177e86d28de6a964bcdc5a0160f0d6033296ab944192"
   }
  }
 },
 "nbformat": 4,
 "nbformat_minor": 4
}
